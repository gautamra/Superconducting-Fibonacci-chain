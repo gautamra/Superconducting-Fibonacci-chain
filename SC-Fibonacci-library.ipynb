{
 "cells": [
  {
   "cell_type": "code",
   "execution_count": 236,
   "metadata": {},
   "outputs": [],
   "source": [
    "import numpy as np\n",
    "import matplotlib.pyplot as plt\n",
    "import matplotlib as mpl\n",
    "import kwant\n",
    "\n",
    "import tinyarray\n",
    "\n",
    "import lmfit as lmf\n",
    "\n",
    "import scipy.linalg as lin\n",
    "\n",
    "from tqdm import tqdm\n",
    "import pickle\n",
    "\n",
    "from scipy import stats\n",
    "\n",
    "import warnings"
   ]
  },
  {
   "cell_type": "code",
   "execution_count": 237,
   "metadata": {},
   "outputs": [],
   "source": [
    "tau_x = tinyarray.array([[0, 1], [1, 0]])\n",
    "tau_y = tinyarray.array([[0, -1j], [1j, 0]])\n",
    "tau_z = tinyarray.array([[1, 0], [0, -1]])\n",
    "tau_0 = tinyarray.array([[1, 0], [0, 1]])\n",
    "\n",
    "def Lorentzian(eex, ee, gam):\n",
    "    return (gam/np.pi)*(1/((eex-ee)**2 + gam**2))\n",
    "\n",
    "def Fermi(eps, beta = 'inf'):\n",
    "    if beta == 'inf':\n",
    "        return int(eps<0)\n",
    "    else:\n",
    "        return 1/(1+np.exp(beta*eps))"
   ]
  },
  {
   "cell_type": "code",
   "execution_count": 238,
   "metadata": {},
   "outputs": [],
   "source": [
    "Fibonacci_number = [1, 2, 3, 5, 8, 13, 21, 34, 55, 89, 144, 233, 377, 610, 987, 1597, 2584, 4181, 6765, 10946, 17711, 28657]\n",
    "tau_approximant = [1, 2.0, 1.5, 1.6666666666666667, 1.6, 1.625, 1.6153846153846154, 1.619047619047619, 1.6176470588235294, 1.6181818181818182, 1.6179775280898876, 1.6180555555555556, 1.6180257510729614, 1.6180371352785146, 1.618032786885246, 1.618034447821682, 1.6180338134001253, 1.618034055727554, 1.6180339631667064, 1.6180339985218033, 1.618033985017358, 1.6180339901755971]"
   ]
  },
  {
   "cell_type": "code",
   "execution_count": 239,
   "metadata": {},
   "outputs": [],
   "source": [
    "class Fibonacci_chains:\n",
    "    def __init__(self):\n",
    "        self.Fibonacci_cellar = {}\n",
    "    \n",
    "    def get_chain(self,n,j):\n",
    "        N = Fibonacci_number[n]\n",
    "        if j>=N:\n",
    "            warnings.warn(\"phi greater than 2 pi. Using modulo 2 pi.\")\n",
    "            j = j%N\n",
    "        try:\n",
    "            chain = self.Fibonacci_cellar[(n,j)]\n",
    "        except KeyError:\n",
    "\n",
    "            tau = tau_approximant[n]\n",
    "            phi = 2*np.pi*j/N\n",
    "            chain = [\"A\" if np.sign(np.cos(2*np.pi*m*(1/tau) + phi) - np.cos(np.pi*(1/tau)))>=0 else \"B\" for m in range(N)]\n",
    "            self.Fibonacci_cellar[(n,j)] = chain\n",
    "        return chain\n",
    "\n",
    "FCs = Fibonacci_chains()"
   ]
  },
  {
   "cell_type": "code",
   "execution_count": 240,
   "metadata": {},
   "outputs": [],
   "source": [
    "class TBmodel:\n",
    "    def __init__(self, LL, ts, us, vs):\n",
    "        self.LL = LL\n",
    "        self.a = 1\n",
    "        self.ts, self.us, self.vs = ts, us, vs\n",
    "        self.Delta = np.array([1]*self.LL)\n",
    "        self.Pot = np.zeros(self.LL)\n",
    "\n",
    "    def onsite(self, site, Delta, Pot):\n",
    "        (x,y) = site.tag\n",
    "        return (self.us[x]+Pot[x])*tau_z - self.vs[x]*Delta[x]*tau_x\n",
    "    \n",
    "    def hopping(self,site1,site2):\n",
    "        (x2,y2) = site2.tag\n",
    "        (x1,y1) = site1.tag\n",
    "        return self.ts[x1]*tau_z\n",
    "    \n",
    "    def make_syst(self):\n",
    "        self.syst = kwant.Builder()\n",
    "        self.lat = kwant.lattice.square(self.a, norbs = 2)\n",
    "        \n",
    "        self.syst[(self.lat(x,0) for x in range(self.LL))] = self.onsite\n",
    "        self.syst[((self.lat(x+1,0),self.lat(x,0)) for x in range(self.LL-1))] = self.hopping\n",
    "        self.syst[((self.lat(0,0), self.lat(self.LL-1,0)))] = self.hopping\n",
    "        \n",
    "        self.fsyst = self.syst.finalized()\n",
    "        return\n",
    "\n",
    "    def solve(self,H):\n",
    "        (evals, evecs) = lin.eigh(H)\n",
    "    \n",
    "        uvecs = evecs[::2]\n",
    "        vvecs = evecs[1::2]\n",
    "        \n",
    "        return (evals[self.LL:],uvecs[:,self.LL:],vvecs[:,self.LL:])\n",
    "\n",
    "    def iterate(self):\n",
    "        def self_cons(H):\n",
    "            (evals, uvecs, vvecs) = self.solve(H)\n",
    "            self.evals, self.uvecs, self.vvecs = (evals, uvecs, vvecs)\n",
    "            \n",
    "            Delta = np.zeros(self.LL, dtype = \"complex128\")\n",
    "            for ee, uvec, vvec in zip(evals, uvecs.T, vvecs.T):\n",
    "                Delta += (1-2*Fermi(ee, beta = self.beta))*uvec*vvec.conjugate()\n",
    "            \n",
    "            occupancy = np.zeros(self.LL)\n",
    "            for ee, uvec, vvec in zip(evals, uvecs.T, vvecs.T):\n",
    "                    occupancy += Fermi(ee, beta = self.beta)*2*np.abs(vvec)**2 + (1-Fermi(ee))*2*np.abs(uvec)**2\n",
    "            \n",
    "            Pot = 1/2*self.vs*occupancy\n",
    "            Pot = Pot + 0.0001*np.ones(len(Pot))\n",
    "\n",
    "            return (Delta, Pot)\n",
    "        \n",
    "        err_Delta = np.ones(1)\n",
    "        cc = 0\n",
    "        \n",
    "#         while any([err/Del>0.001 and err>0.01*(np.max(self.Delta)+0.01) for err,Del in zip(err_Delta, self.Delta)]):\n",
    "        for _ in range(20):\n",
    "            H = self.fsyst.hamiltonian_submatrix(params = dict(Delta = self.Delta, Pot = self.Pot))\n",
    "            newDelta, newPot = self_cons(H)\n",
    "            err_Delta = np.abs(newDelta - self.Delta)\n",
    "            \n",
    "            cc += 1    \n",
    "            self.Delta, self.Pot = newDelta, newPot\n",
    "        \n",
    "        print(\"Convergence took {} iterations\".format(cc))\n",
    "        \n",
    "        self.H = H\n",
    "        return self.Delta, self.Pot\n",
    "        \n",
    "    \n",
    "    def get_DOS(self, gam = None, Num_es = 1000):\n",
    "        emax = np.max(np.abs(self.evals))\n",
    "        \n",
    "        if gam == None:\n",
    "            gam = 2*emax/self.LL\n",
    "            \n",
    "        eex = np.linspace(-1.2*emax,1.2*emax, Num_es)\n",
    "        DOSu = np.zeros(eex.shape)\n",
    "        DOSv = np.zeros(eex.shape)\n",
    "        \n",
    "        for ee, uvec, vvec in zip(self.evals, self.uvecs.T, self.vvecs.T):\n",
    "            if ee>0:\n",
    "                DOSu += np.linalg.norm(uvec)**2*Lorentzian(eex,ee,gam) \n",
    "                DOSv += np.linalg.norm(vvec)**2*Lorentzian(eex,-ee,gam)\n",
    "                \n",
    "        self.DOS = (DOSu + DOSv)/self.LL\n",
    "        return  self.DOS , eex\n",
    "    \n",
    "    def get_LDOS(self, gam = None, Num_es = 1000):\n",
    "        emax = np.max(np.abs(self.evals))\n",
    "        \n",
    "        if gam == None:\n",
    "            gam = 2*emax/self.LL\n",
    "            \n",
    "        eex = np.linspace(-1.2*emax,1.2*emax, Num_es)\n",
    "        DOSu = np.zeros((self.uvecs.shape[0],eex.shape[0]))\n",
    "        DOSv = np.zeros(DOSu.shape)\n",
    "        \n",
    "        for ee, uvec, vvec in zip(self.evals, self.uvecs.T, self.vvecs.T):\n",
    "            if ee>0:\n",
    "                DOSu += (np.abs(uvec)**2)[:,np.newaxis]*Lorentzian(eex,ee,gam)\n",
    "                DOSv += (np.abs(vvec)**2)[:,np.newaxis]*Lorentzian(eex,-ee,gam)      \n",
    "            \n",
    "        self.LDOS = (DOSu + DOSv)/self.LL\n",
    "        return  self.LDOS,eex\n",
    "    \n",
    "    def get_ham(self,inds):\n",
    "        if inds == 'full':\n",
    "            return self.fsyst.hamiltonian_submatrix(params = dict(Delta = self.Delta, Pot = self.Pot))\n",
    "        else:\n",
    "            return self.fsyst.hamiltonian(*inds, params = dict(Delta = self.Delta, Pot = self.Pot))"
   ]
  },
  {
   "cell_type": "code",
   "execution_count": 241,
   "metadata": {},
   "outputs": [],
   "source": [
    "class simple_ring(TBmodel):\n",
    "    \"\"\"\n",
    "    Wrapper around TBmodel. Will generate a 1D tight-binding model with the parameters provided by chain.\n",
    "    beta is the inversee temperature. use beta = \"inf\" for 0T.\n",
    "    \"\"\"\n",
    "    def __init__(self, chain, beta = \"inf\"):\n",
    "        self.chain = chain\n",
    "        self.NN = chain[\"N\"]\n",
    "        self.beta = beta\n",
    "        \n",
    "        ts = np.array(chain[\"t\"])\n",
    "        us = np.array(chain[\"u\"])\n",
    "        vs = np.array(chain[\"v\"])\n",
    "        \n",
    "        TBmodel.__init__(self, self.NN, ts, us, vs)\n",
    "\n",
    "        self.make_syst()       "
   ]
  },
  {
   "cell_type": "code",
   "execution_count": 242,
   "metadata": {},
   "outputs": [],
   "source": [
    "def chainFC(n = 3, t=-1, w = 0.1, phi = 0, u = 0, v = 0, wu = 0, wv = 0, PBC = True):\n",
    "    \"\"\"\n",
    "    Generates the hoppings, the on-site potentials, and the BCS attraction terms for a chain of length Fibonacci_number[n]\n",
    "    The ts modulate according to the Fibonacci word with tA-tB = w and phi = phi. On-site potential and BCS attraction \n",
    "    is drawn from the uniform distribution u±wu and v±wv respectively. PBC = True will use periodic boundary conditions, \n",
    "    while PBC=False will use open boundary conditions.\n",
    "    \"\"\"\n",
    "    L = Fibonacci_number[n]\n",
    "    tau = tau_approximant[n]\n",
    "    FC = FCs.get_chain(n,phi)\n",
    "    \n",
    "    wa = 2*w/(1+tau)\n",
    "    wb = tau*wa\n",
    "\n",
    "    ts = [1-wa if letter ==\"A\" else 1+wb for letter in FC]\n",
    "    \n",
    "    if PBC:\n",
    "        chain = {\n",
    "            \"N\": L,\n",
    "            \"t\": -np.array(ts),\n",
    "            \"u\" : u - wu/2 + wu*np.random.rand(L),\n",
    "            \"v\" : v - wv/2 + wv*np.random.rand(L)\n",
    "        }\n",
    "        \n",
    "    else:\n",
    "        chain = {\n",
    "            \"N\": L+1,\n",
    "            \"t\": -np.concatenate((np.zeros(1),np.array(ts))),\n",
    "            \"u\" : u - wu/2 + wu*np.random.rand(L+1),\n",
    "            \"v\" : v - wv/2 + wv*np.random.rand(L+1)\n",
    "        }\n",
    "        \n",
    "    return chain\n"
   ]
  },
  {
   "cell_type": "code",
   "execution_count": 323,
   "metadata": {},
   "outputs": [
    {
     "data": {
      "text/plain": [
       "{'N': 144,\n",
       " 't': array([-0.92360515, -1.12360515, -0.92360515, -0.92360515, -1.12360515,\n",
       "        -0.92360515, -0.92360515, -1.12360515, -0.92360515, -1.12360515,\n",
       "        -0.92360515, -0.92360515, -1.12360515, -0.92360515, -1.12360515,\n",
       "        -0.92360515, -0.92360515, -1.12360515, -0.92360515, -0.92360515,\n",
       "        -1.12360515, -0.92360515, -1.12360515, -0.92360515, -0.92360515,\n",
       "        -1.12360515, -0.92360515, -1.12360515, -0.92360515, -0.92360515,\n",
       "        -1.12360515, -0.92360515, -0.92360515, -1.12360515, -0.92360515,\n",
       "        -1.12360515, -0.92360515, -0.92360515, -1.12360515, -0.92360515,\n",
       "        -0.92360515, -1.12360515, -0.92360515, -1.12360515, -0.92360515,\n",
       "        -0.92360515, -1.12360515, -0.92360515, -1.12360515, -0.92360515,\n",
       "        -0.92360515, -1.12360515, -0.92360515, -0.92360515, -1.12360515,\n",
       "        -0.92360515, -1.12360515, -0.92360515, -0.92360515, -1.12360515,\n",
       "        -0.92360515, -0.92360515, -1.12360515, -0.92360515, -1.12360515,\n",
       "        -0.92360515, -0.92360515, -1.12360515, -0.92360515, -1.12360515,\n",
       "        -0.92360515, -0.92360515, -1.12360515, -0.92360515, -0.92360515,\n",
       "        -1.12360515, -0.92360515, -1.12360515, -0.92360515, -0.92360515,\n",
       "        -1.12360515, -0.92360515, -1.12360515, -0.92360515, -0.92360515,\n",
       "        -1.12360515, -0.92360515, -0.92360515, -1.12360515, -0.92360515,\n",
       "        -1.12360515, -0.92360515, -0.92360515, -1.12360515, -0.92360515,\n",
       "        -0.92360515, -1.12360515, -0.92360515, -1.12360515, -0.92360515,\n",
       "        -0.92360515, -1.12360515, -0.92360515, -1.12360515, -0.92360515,\n",
       "        -0.92360515, -1.12360515, -0.92360515, -0.92360515, -1.12360515,\n",
       "        -0.92360515, -1.12360515, -0.92360515, -0.92360515, -1.12360515,\n",
       "        -0.92360515, -0.92360515, -1.12360515, -0.92360515, -1.12360515,\n",
       "        -0.92360515, -0.92360515, -1.12360515, -0.92360515, -1.12360515,\n",
       "        -0.92360515, -0.92360515, -1.12360515, -0.92360515, -0.92360515,\n",
       "        -1.12360515, -0.92360515, -1.12360515, -0.92360515, -0.92360515,\n",
       "        -1.12360515, -0.92360515, -1.12360515, -0.92360515, -0.92360515,\n",
       "        -1.12360515, -0.92360515, -0.92360515, -1.12360515]),\n",
       " 'u': array([0.75, 0.75, 0.75, 0.75, 0.75, 0.75, 0.75, 0.75, 0.75, 0.75, 0.75,\n",
       "        0.75, 0.75, 0.75, 0.75, 0.75, 0.75, 0.75, 0.75, 0.75, 0.75, 0.75,\n",
       "        0.75, 0.75, 0.75, 0.75, 0.75, 0.75, 0.75, 0.75, 0.75, 0.75, 0.75,\n",
       "        0.75, 0.75, 0.75, 0.75, 0.75, 0.75, 0.75, 0.75, 0.75, 0.75, 0.75,\n",
       "        0.75, 0.75, 0.75, 0.75, 0.75, 0.75, 0.75, 0.75, 0.75, 0.75, 0.75,\n",
       "        0.75, 0.75, 0.75, 0.75, 0.75, 0.75, 0.75, 0.75, 0.75, 0.75, 0.75,\n",
       "        0.75, 0.75, 0.75, 0.75, 0.75, 0.75, 0.75, 0.75, 0.75, 0.75, 0.75,\n",
       "        0.75, 0.75, 0.75, 0.75, 0.75, 0.75, 0.75, 0.75, 0.75, 0.75, 0.75,\n",
       "        0.75, 0.75, 0.75, 0.75, 0.75, 0.75, 0.75, 0.75, 0.75, 0.75, 0.75,\n",
       "        0.75, 0.75, 0.75, 0.75, 0.75, 0.75, 0.75, 0.75, 0.75, 0.75, 0.75,\n",
       "        0.75, 0.75, 0.75, 0.75, 0.75, 0.75, 0.75, 0.75, 0.75, 0.75, 0.75,\n",
       "        0.75, 0.75, 0.75, 0.75, 0.75, 0.75, 0.75, 0.75, 0.75, 0.75, 0.75,\n",
       "        0.75, 0.75, 0.75, 0.75, 0.75, 0.75, 0.75, 0.75, 0.75, 0.75, 0.75,\n",
       "        0.75]),\n",
       " 'v': array([-1.5, -1.5, -1.5, -1.5, -1.5, -1.5, -1.5, -1.5, -1.5, -1.5, -1.5,\n",
       "        -1.5, -1.5, -1.5, -1.5, -1.5, -1.5, -1.5, -1.5, -1.5, -1.5, -1.5,\n",
       "        -1.5, -1.5, -1.5, -1.5, -1.5, -1.5, -1.5, -1.5, -1.5, -1.5, -1.5,\n",
       "        -1.5, -1.5, -1.5, -1.5, -1.5, -1.5, -1.5, -1.5, -1.5, -1.5, -1.5,\n",
       "        -1.5, -1.5, -1.5, -1.5, -1.5, -1.5, -1.5, -1.5, -1.5, -1.5, -1.5,\n",
       "        -1.5, -1.5, -1.5, -1.5, -1.5, -1.5, -1.5, -1.5, -1.5, -1.5, -1.5,\n",
       "        -1.5, -1.5, -1.5, -1.5, -1.5, -1.5, -1.5, -1.5, -1.5, -1.5, -1.5,\n",
       "        -1.5, -1.5, -1.5, -1.5, -1.5, -1.5, -1.5, -1.5, -1.5, -1.5, -1.5,\n",
       "        -1.5, -1.5, -1.5, -1.5, -1.5, -1.5, -1.5, -1.5, -1.5, -1.5, -1.5,\n",
       "        -1.5, -1.5, -1.5, -1.5, -1.5, -1.5, -1.5, -1.5, -1.5, -1.5, -1.5,\n",
       "        -1.5, -1.5, -1.5, -1.5, -1.5, -1.5, -1.5, -1.5, -1.5, -1.5, -1.5,\n",
       "        -1.5, -1.5, -1.5, -1.5, -1.5, -1.5, -1.5, -1.5, -1.5, -1.5, -1.5,\n",
       "        -1.5, -1.5, -1.5, -1.5, -1.5, -1.5, -1.5, -1.5, -1.5, -1.5, -1.5,\n",
       "        -1.5])}"
      ]
     },
     "execution_count": 323,
     "metadata": {},
     "output_type": "execute_result"
    }
   ],
   "source": [
    "chain = chainFC(n = 10, v = -1.5, u = 0.75, w = 0.1,PBC = True)\n",
    "chain"
   ]
  },
  {
   "cell_type": "code",
   "execution_count": 312,
   "metadata": {},
   "outputs": [],
   "source": [
    "Model = simple_ring(chain)"
   ]
  },
  {
   "cell_type": "code",
   "execution_count": 313,
   "metadata": {},
   "outputs": [
    {
     "name": "stdout",
     "output_type": "stream",
     "text": [
      "[[ 0.75  1.5  -1.   ...  0.   -1.   -0.  ]\n",
      " [ 1.5  -0.75 -0.   ...  0.   -0.    1.  ]\n",
      " [-1.   -0.    0.75 ...  0.    0.    0.  ]\n",
      " ...\n",
      " [ 0.    0.    0.   ... -0.75 -0.    1.  ]\n",
      " [-1.   -0.    0.   ... -0.    0.75  1.5 ]\n",
      " [-0.    1.    0.   ...  1.    1.5  -0.75]]\n"
     ]
    }
   ],
   "source": [
    "with np.printoptions(precision=2, suppress=True):\n",
    "    print(Model.get_ham('full').real)"
   ]
  },
  {
   "cell_type": "code",
   "execution_count": 314,
   "metadata": {},
   "outputs": [
    {
     "name": "stdout",
     "output_type": "stream",
     "text": [
      "Convergence took 20 iterations\n",
      "[[ 0.    0.12 -1.   ...  0.   -1.   -0.  ]\n",
      " [ 0.12 -0.   -0.   ...  0.   -0.    1.  ]\n",
      " [-1.   -0.    0.   ...  0.    0.    0.  ]\n",
      " ...\n",
      " [ 0.    0.    0.   ... -0.   -0.    1.  ]\n",
      " [-1.   -0.    0.   ... -0.    0.    0.12]\n",
      " [-0.    1.    0.   ...  1.    0.12 -0.  ]]\n"
     ]
    }
   ],
   "source": [
    "Model.iterate()\n",
    "with np.printoptions(precision=2, suppress=True):\n",
    "    print(Model.get_ham('full').real)"
   ]
  },
  {
   "cell_type": "code",
   "execution_count": 315,
   "metadata": {},
   "outputs": [
    {
     "name": "stderr",
     "output_type": "stream",
     "text": [
      "/opt/anaconda3/lib/python3.7/site-packages/numpy/core/_asarray.py:85: ComplexWarning: Casting complex values to real discards the imaginary part\n",
      "  return array(a, dtype, copy=False, order=order)\n"
     ]
    },
    {
     "data": {
      "text/plain": [
       "array([0.08116892+0.j, 0.08116892+0.j, 0.08116892+0.j, 0.08116892+0.j,\n",
       "       0.08116892+0.j, 0.08116892+0.j, 0.08116892+0.j, 0.08116892+0.j,\n",
       "       0.08116892+0.j, 0.08116892+0.j, 0.08116892+0.j, 0.08116892+0.j,\n",
       "       0.08116892+0.j, 0.08116892+0.j, 0.08116892+0.j, 0.08116892+0.j,\n",
       "       0.08116892+0.j, 0.08116892+0.j, 0.08116892+0.j, 0.08116892+0.j,\n",
       "       0.08116892+0.j, 0.08116892+0.j, 0.08116892+0.j, 0.08116892+0.j,\n",
       "       0.08116892+0.j, 0.08116892+0.j, 0.08116892+0.j, 0.08116892+0.j,\n",
       "       0.08116892+0.j, 0.08116892+0.j, 0.08116892+0.j, 0.08116892+0.j,\n",
       "       0.08116892+0.j, 0.08116892+0.j, 0.08116892+0.j, 0.08116892+0.j,\n",
       "       0.08116892+0.j, 0.08116892+0.j, 0.08116892+0.j, 0.08116892+0.j,\n",
       "       0.08116892+0.j, 0.08116892+0.j, 0.08116892+0.j, 0.08116892+0.j,\n",
       "       0.08116892+0.j, 0.08116892+0.j, 0.08116892+0.j, 0.08116892+0.j,\n",
       "       0.08116892+0.j, 0.08116892+0.j, 0.08116892+0.j, 0.08116892+0.j,\n",
       "       0.08116892+0.j, 0.08116892+0.j, 0.08116892+0.j, 0.08116892+0.j,\n",
       "       0.08116892+0.j, 0.08116892+0.j, 0.08116892+0.j, 0.08116892+0.j,\n",
       "       0.08116892+0.j, 0.08116892+0.j, 0.08116892+0.j, 0.08116892+0.j,\n",
       "       0.08116892+0.j, 0.08116892+0.j, 0.08116892+0.j, 0.08116892+0.j,\n",
       "       0.08116892+0.j, 0.08116892+0.j, 0.08116892+0.j, 0.08116892+0.j,\n",
       "       0.08116892+0.j, 0.08116892+0.j, 0.08116892+0.j, 0.08116892+0.j,\n",
       "       0.08116892+0.j, 0.08116892+0.j, 0.08116892+0.j, 0.08116892+0.j,\n",
       "       0.08116892+0.j, 0.08116892+0.j, 0.08116892+0.j, 0.08116892+0.j,\n",
       "       0.08116892+0.j, 0.08116892+0.j, 0.08116892+0.j, 0.08116892+0.j,\n",
       "       0.08116892+0.j, 0.08116892+0.j, 0.08116892+0.j, 0.08116892+0.j,\n",
       "       0.08116892+0.j, 0.08116892+0.j, 0.08116892+0.j, 0.08116892+0.j,\n",
       "       0.08116892+0.j, 0.08116892+0.j, 0.08116892+0.j, 0.08116892+0.j,\n",
       "       0.08116892+0.j, 0.08116892+0.j, 0.08116892+0.j, 0.08116892+0.j,\n",
       "       0.08116892+0.j, 0.08116892+0.j, 0.08116892+0.j, 0.08116892+0.j,\n",
       "       0.08116892+0.j, 0.08116892+0.j, 0.08116892+0.j, 0.08116892+0.j,\n",
       "       0.08116892+0.j, 0.08116892+0.j, 0.08116892+0.j, 0.08116892+0.j,\n",
       "       0.08116892+0.j, 0.08116892+0.j, 0.08116892+0.j, 0.08116892+0.j,\n",
       "       0.08116892+0.j, 0.08116892+0.j, 0.08116892+0.j, 0.08116892+0.j,\n",
       "       0.08116892+0.j, 0.08116892+0.j, 0.08116892+0.j, 0.08116892+0.j,\n",
       "       0.08116892+0.j, 0.08116892+0.j, 0.08116892+0.j, 0.08116892+0.j,\n",
       "       0.08116892+0.j, 0.08116892+0.j, 0.08116892+0.j, 0.08116892+0.j,\n",
       "       0.08116892+0.j, 0.08116892+0.j, 0.08116892+0.j, 0.08116892+0.j,\n",
       "       0.08116892+0.j, 0.08116892+0.j, 0.08116892+0.j, 0.08116892+0.j])"
      ]
     },
     "execution_count": 315,
     "metadata": {},
     "output_type": "execute_result"
    },
    {
     "data": {
      "image/png": "[encoded data removed]",
      "text/plain": [
       "<Figure size 432x288 with 1 Axes>"
      ]
     },
     "metadata": {
      "needs_background": "light"
     },
     "output_type": "display_data"
    }
   ],
   "source": [
    "plt.plot(Model.Delta)\n",
    "Model.Delta"
   ]
  },
  {
   "cell_type": "code",
   "execution_count": 320,
   "metadata": {},
   "outputs": [
    {
     "data": {
      "text/plain": [
       "[<matplotlib.lines.Line2D at 0x7fbb6d974cd0>]"
      ]
     },
     "execution_count": 320,
     "metadata": {},
     "output_type": "execute_result"
    },
    {
     "data": {
      "image/png": "[encoded data removed]",
      "text/plain": [
       "<Figure size 432x288 with 1 Axes>"
      ]
     },
     "metadata": {
      "needs_background": "light"
     },
     "output_type": "display_data"
    }
   ],
   "source": [
    "DOS, eex = Model.get_DOS(gam = 0.01)\n",
    "plt.plot(eex, DOS)"
   ]
  },
  {
   "cell_type": "code",
   "execution_count": null,
   "metadata": {},
   "outputs": [],
   "source": []
  }
 ],
 "metadata": {
  "kernelspec": {
   "display_name": "Python 3",
   "language": "python",
   "name": "python3"
  },
  "language_info": {
   "codemirror_mode": {
    "name": "ipython",
    "version": 3
   },
   "file_extension": ".py",
   "mimetype": "text/x-python",
   "name": "python",
   "nbconvert_exporter": "python",
   "pygments_lexer": "ipython3",
   "version": "3.7.6"
  }
 },
 "nbformat": 4,
 "nbformat_minor": 4
}
